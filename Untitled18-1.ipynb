{
 "cells": [
  {
   "cell_type": "code",
   "execution_count": 1,
   "id": "486bad67-328f-4f83-85af-af4483f8a8ad",
   "metadata": {},
   "outputs": [],
   "source": [
    "_= \"pavan khajurkar\""
   ]
  },
  {
   "cell_type": "code",
   "execution_count": 2,
   "id": "a5c1b29c-0d16-4777-981c-ad6a2107224b",
   "metadata": {},
   "outputs": [],
   "source": [
    "name_=\"pavan khajurkar\""
   ]
  },
  {
   "cell_type": "code",
   "execution_count": 4,
   "id": "201b2c81-e900-4aca-96fb-de3a8a0093e1",
   "metadata": {},
   "outputs": [
    {
     "ename": "SyntaxError",
     "evalue": "cannot assign to literal here. Maybe you meant '==' instead of '='? (1616229685.py, line 1)",
     "output_type": "error",
     "traceback": [
      "\u001b[0;36m  Cell \u001b[0;32mIn[4], line 1\u001b[0;36m\u001b[0m\n\u001b[0;31m    45 =\"pavan khajurkar\"\u001b[0m\n\u001b[0m    ^\u001b[0m\n\u001b[0;31mSyntaxError\u001b[0m\u001b[0;31m:\u001b[0m cannot assign to literal here. Maybe you meant '==' instead of '='?\n"
     ]
    }
   ],
   "source": [
    "45 =\"pavan khajurkar\""
   ]
  },
  {
   "cell_type": "code",
   "execution_count": 5,
   "id": "2757e93e-0330-412d-92e3-d16dae4fc848",
   "metadata": {},
   "outputs": [
    {
     "ename": "SyntaxError",
     "evalue": "invalid syntax (1542690249.py, line 1)",
     "output_type": "error",
     "traceback": [
      "\u001b[0;36m  Cell \u001b[0;32mIn[5], line 1\u001b[0;36m\u001b[0m\n\u001b[0;31m    break=\"pavan khajurkar\"\u001b[0m\n\u001b[0m         ^\u001b[0m\n\u001b[0;31mSyntaxError\u001b[0m\u001b[0;31m:\u001b[0m invalid syntax\n"
     ]
    }
   ],
   "source": [
    "break=\"pavan khajurkar\""
   ]
  },
  {
   "cell_type": "code",
   "execution_count": 6,
   "id": "3273e0ab-f1b3-4306-a338-5a3976f0a937",
   "metadata": {},
   "outputs": [],
   "source": [
    "Roll_no_45=\"pavan khajurkar\""
   ]
  },
  {
   "cell_type": "code",
   "execution_count": 7,
   "id": "279ced62-f5c1-4a87-8a70-6556f4591259",
   "metadata": {},
   "outputs": [
    {
     "data": {
      "text/plain": [
       "'pavan khajurkar'"
      ]
     },
     "execution_count": 7,
     "metadata": {},
     "output_type": "execute_result"
    }
   ],
   "source": [
    "Roll_no_45"
   ]
  },
  {
   "cell_type": "code",
   "execution_count": 12,
   "id": "ef96dd38-83fe-4c92-902d-bbee0abfdf0c",
   "metadata": {},
   "outputs": [
    {
     "ename": "SyntaxError",
     "evalue": "cannot assign to True (3879928217.py, line 1)",
     "output_type": "error",
     "traceback": [
      "\u001b[0;36m  Cell \u001b[0;32mIn[12], line 1\u001b[0;36m\u001b[0m\n\u001b[0;31m    True =\" pavan khajurkar\"\u001b[0m\n\u001b[0m    ^\u001b[0m\n\u001b[0;31mSyntaxError\u001b[0m\u001b[0;31m:\u001b[0m cannot assign to True\n"
     ]
    }
   ],
   "source": [
    "True =\" pavan khajurkar\""
   ]
  },
  {
   "cell_type": "code",
   "execution_count": 13,
   "id": "057a0b6e-9ddc-4c2c-8e49-047503344ea6",
   "metadata": {},
   "outputs": [
    {
     "ename": "SyntaxError",
     "evalue": "invalid syntax (1531159264.py, line 1)",
     "output_type": "error",
     "traceback": [
      "\u001b[0;36m  Cell \u001b[0;32mIn[13], line 1\u001b[0;36m\u001b[0m\n\u001b[0;31m    na me=\"pavan khajurkar\"\u001b[0m\n\u001b[0m       ^\u001b[0m\n\u001b[0;31mSyntaxError\u001b[0m\u001b[0;31m:\u001b[0m invalid syntax\n"
     ]
    }
   ],
   "source": [
    "na me=\"pavan khajurkar\""
   ]
  },
  {
   "cell_type": "code",
   "execution_count": 14,
   "id": "663ebee6-5723-40cc-a83e-7c73e6732250",
   "metadata": {},
   "outputs": [],
   "source": [
    "age=30"
   ]
  },
  {
   "cell_type": "code",
   "execution_count": 15,
   "id": "9228d9fb-4b6e-4c0f-89d4-a9c9700275e4",
   "metadata": {},
   "outputs": [],
   "source": [
    "Age=56"
   ]
  },
  {
   "cell_type": "code",
   "execution_count": 16,
   "id": "e8dd863e-a0f9-4486-abcc-a0d7c0f4bd9a",
   "metadata": {},
   "outputs": [
    {
     "data": {
      "text/plain": [
       "30"
      ]
     },
     "execution_count": 16,
     "metadata": {},
     "output_type": "execute_result"
    }
   ],
   "source": [
    "age"
   ]
  },
  {
   "cell_type": "code",
   "execution_count": 17,
   "id": "ac2861d8-fc73-4b18-ae99-744932167108",
   "metadata": {},
   "outputs": [
    {
     "data": {
      "text/plain": [
       "56"
      ]
     },
     "execution_count": 17,
     "metadata": {},
     "output_type": "execute_result"
    }
   ],
   "source": [
    "Age"
   ]
  },
  {
   "cell_type": "code",
   "execution_count": 18,
   "id": "2f59a8b7-34db-4b2c-86d7-ec896f3cba5e",
   "metadata": {},
   "outputs": [
    {
     "ename": "SyntaxError",
     "evalue": "invalid decimal literal (2925269012.py, line 1)",
     "output_type": "error",
     "traceback": [
      "\u001b[0;36m  Cell \u001b[0;32mIn[18], line 1\u001b[0;36m\u001b[0m\n\u001b[0;31m    23name=\"pavan khajurkar\"\u001b[0m\n\u001b[0m     ^\u001b[0m\n\u001b[0;31mSyntaxError\u001b[0m\u001b[0;31m:\u001b[0m invalid decimal literal\n"
     ]
    }
   ],
   "source": [
    "23name=\"pavan khajurkar\""
   ]
  },
  {
   "cell_type": "code",
   "execution_count": 19,
   "id": "d66ead74-adfe-4efd-aadb-205d6afa2d62",
   "metadata": {},
   "outputs": [],
   "source": [
    "a,b=23,67"
   ]
  },
  {
   "cell_type": "code",
   "execution_count": 20,
   "id": "b018f192-7210-43d2-8a4b-9ea6588faf6a",
   "metadata": {},
   "outputs": [
    {
     "data": {
      "text/plain": [
       "23"
      ]
     },
     "execution_count": 20,
     "metadata": {},
     "output_type": "execute_result"
    }
   ],
   "source": [
    "a"
   ]
  },
  {
   "cell_type": "code",
   "execution_count": 21,
   "id": "ab83f8dc-ace5-42f0-a4e7-ec223ec91a50",
   "metadata": {},
   "outputs": [
    {
     "data": {
      "text/plain": [
       "67"
      ]
     },
     "execution_count": 21,
     "metadata": {},
     "output_type": "execute_result"
    }
   ],
   "source": [
    "b"
   ]
  },
  {
   "cell_type": "code",
   "execution_count": 22,
   "id": "76c1dbf1-8e00-4968-9961-d5abaf42cca0",
   "metadata": {},
   "outputs": [],
   "source": [
    "name23=\"pavan khajurlar\""
   ]
  },
  {
   "cell_type": "code",
   "execution_count": 23,
   "id": "0872d5ef-1a2c-49eb-9cb4-8dce4a5f8cb2",
   "metadata": {},
   "outputs": [
    {
     "ename": "ValueError",
     "evalue": "not enough values to unpack (expected 3, got 2)",
     "output_type": "error",
     "traceback": [
      "\u001b[0;31m---------------------------------------------------------------------------\u001b[0m",
      "\u001b[0;31mValueError\u001b[0m                                Traceback (most recent call last)",
      "Cell \u001b[0;32mIn[23], line 1\u001b[0m\n\u001b[0;32m----> 1\u001b[0m a,b,c\u001b[38;5;241m=\u001b[39m\u001b[38;5;241m23\u001b[39m,\u001b[38;5;241m67\u001b[39m\n",
      "\u001b[0;31mValueError\u001b[0m: not enough values to unpack (expected 3, got 2)"
     ]
    }
   ],
   "source": [
    "a,b,c=23,67"
   ]
  },
  {
   "cell_type": "code",
   "execution_count": 24,
   "id": "b26bbaaf-c8e7-46ae-9c3c-50d7aa52d19e",
   "metadata": {},
   "outputs": [],
   "source": [
    "a,b,c=23,67,56"
   ]
  },
  {
   "cell_type": "code",
   "execution_count": 26,
   "id": "5548feaf-446c-455b-a75d-d605435afc62",
   "metadata": {},
   "outputs": [
    {
     "name": "stdout",
     "output_type": "stream",
     "text": [
      "67\n"
     ]
    }
   ],
   "source": [
    "print(b)"
   ]
  },
  {
   "cell_type": "code",
   "execution_count": 28,
   "id": "51298687-2057-41c7-91b3-e04c0168a579",
   "metadata": {},
   "outputs": [
    {
     "name": "stdout",
     "output_type": "stream",
     "text": [
      "pavan khajurkar\n"
     ]
    }
   ],
   "source": [
    "#Library function or in-built functions\n",
    "print(\"pavan khajurkar\")"
   ]
  },
  {
   "cell_type": "code",
   "execution_count": 29,
   "id": "cd89504f-e936-4796-82ec-78b2cc7c5f5d",
   "metadata": {},
   "outputs": [
    {
     "name": "stdout",
     "output_type": "stream",
     "text": [
      "23\n",
      "a\n"
     ]
    }
   ],
   "source": [
    "print(a)\n",
    "print(\"a\")"
   ]
  },
  {
   "cell_type": "code",
   "execution_count": 30,
   "id": "225dc323-406d-4f0f-93c8-b34859f2e513",
   "metadata": {},
   "outputs": [
    {
     "name": "stdout",
     "output_type": "stream",
     "text": [
      "23 67 56\n"
     ]
    }
   ],
   "source": [
    "print(a,b,c)"
   ]
  },
  {
   "cell_type": "code",
   "execution_count": 31,
   "id": "42562307-057e-417a-a597-831bac93b327",
   "metadata": {},
   "outputs": [],
   "source": [
    "#o/p-->23,67,45 "
   ]
  },
  {
   "cell_type": "code",
   "execution_count": 32,
   "id": "ed7a9135-3921-4299-bdf6-24445cc74d23",
   "metadata": {},
   "outputs": [
    {
     "name": "stdout",
     "output_type": "stream",
     "text": [
      "23,67,56\n"
     ]
    }
   ],
   "source": [
    "print(a,b,c,sep=\",\")"
   ]
  },
  {
   "cell_type": "code",
   "execution_count": 33,
   "id": "36f67038-555e-447e-b301-e9a336f87d88",
   "metadata": {},
   "outputs": [
    {
     "name": "stdout",
     "output_type": "stream",
     "text": [
      "23#67#56\n"
     ]
    }
   ],
   "source": [
    "print(a,b,c,sep=\"#\")"
   ]
  },
  {
   "cell_type": "code",
   "execution_count": 34,
   "id": "51f56b68-a628-4311-8f0f-4163dddff5f5",
   "metadata": {},
   "outputs": [],
   "source": [
    "name=\"pavan khajurkar\""
   ]
  },
  {
   "cell_type": "code",
   "execution_count": 35,
   "id": "341134fb-da15-4079-8601-b80e2d439fd3",
   "metadata": {},
   "outputs": [
    {
     "data": {
      "text/plain": [
       "str"
      ]
     },
     "execution_count": 35,
     "metadata": {},
     "output_type": "execute_result"
    }
   ],
   "source": [
    "type(name)"
   ]
  },
  {
   "cell_type": "code",
   "execution_count": 36,
   "id": "ff07179b-710c-4585-a797-633b25e49386",
   "metadata": {},
   "outputs": [],
   "source": [
    "name1='pavan khajukar'"
   ]
  },
  {
   "cell_type": "code",
   "execution_count": 37,
   "id": "b382097f-eea4-4d8b-a44d-06bcb3fdb8f2",
   "metadata": {},
   "outputs": [
    {
     "data": {
      "text/plain": [
       "str"
      ]
     },
     "execution_count": 37,
     "metadata": {},
     "output_type": "execute_result"
    }
   ],
   "source": [
    "type(name1)"
   ]
  },
  {
   "cell_type": "code",
   "execution_count": 39,
   "id": "c96b1f6f-da95-4f0f-88d5-aedc3847446d",
   "metadata": {},
   "outputs": [],
   "source": [
    "name2=\"\"\"pavan khajurkar\"\"\""
   ]
  },
  {
   "cell_type": "code",
   "execution_count": 40,
   "id": "a7941682-ce2b-45e3-8e4a-2e958755c0d6",
   "metadata": {},
   "outputs": [
    {
     "data": {
      "text/plain": [
       "str"
      ]
     },
     "execution_count": 40,
     "metadata": {},
     "output_type": "execute_result"
    }
   ],
   "source": [
    "type(name2)"
   ]
  },
  {
   "cell_type": "code",
   "execution_count": 41,
   "id": "3089b001-c347-4091-8c6d-8d9281284ebd",
   "metadata": {},
   "outputs": [],
   "source": [
    "name3='''pavan khajurkar'''"
   ]
  },
  {
   "cell_type": "code",
   "execution_count": 42,
   "id": "cfe559ea-90ce-4331-a18d-f4d09654d597",
   "metadata": {},
   "outputs": [
    {
     "data": {
      "text/plain": [
       "str"
      ]
     },
     "execution_count": 42,
     "metadata": {},
     "output_type": "execute_result"
    }
   ],
   "source": [
    "type(name3)"
   ]
  },
  {
   "cell_type": "code",
   "execution_count": 43,
   "id": "349ff722-d5f7-4f9e-8bf3-ec93bc74a2e3",
   "metadata": {},
   "outputs": [],
   "source": [
    "# single quote in string is alloweb\n",
    "# double quote in string in allowed"
   ]
  },
  {
   "cell_type": "code",
   "execution_count": 46,
   "id": "c041d2a2-5e11-433d-ab7e-8ec682545889",
   "metadata": {},
   "outputs": [
    {
     "name": "stdout",
     "output_type": "stream",
     "text": [
      "pavan khajurkar\n",
      "namokar kasture\n"
     ]
    }
   ],
   "source": [
    "print(\"pavan khajurkar\")\n",
    "print(\"namokar kasture\")"
   ]
  },
  {
   "cell_type": "code",
   "execution_count": null,
   "id": "ed594936-8756-4893-b0e1-b641dc5bc094",
   "metadata": {},
   "outputs": [],
   "source": [
    "print(\"pavan khajurkar'\n"
   ]
  }
 ],
 "metadata": {
  "kernelspec": {
   "display_name": "Python 3 (ipykernel)",
   "language": "python",
   "name": "python3"
  },
  "language_info": {
   "codemirror_mode": {
    "name": "ipython",
    "version": 3
   },
   "file_extension": ".py",
   "mimetype": "text/x-python",
   "name": "python",
   "nbconvert_exporter": "python",
   "pygments_lexer": "ipython3",
   "version": "3.10.12"
  }
 },
 "nbformat": 4,
 "nbformat_minor": 5
}
